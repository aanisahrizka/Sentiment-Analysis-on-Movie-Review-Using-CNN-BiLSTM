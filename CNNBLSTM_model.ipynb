{
  "nbformat": 4,
  "nbformat_minor": 0,
  "metadata": {
    "kernelspec": {
      "display_name": "Python 3",
      "language": "python",
      "name": "python3"
    },
    "language_info": {
      "codemirror_mode": {
        "name": "ipython",
        "version": 3
      },
      "file_extension": ".py",
      "mimetype": "text/x-python",
      "name": "python",
      "nbconvert_exporter": "python",
      "pygments_lexer": "ipython3",
      "version": "3.5.5"
    },
    "colab": {
      "name": "CNNBLSTM_model.ipynb",
      "provenance": [],
      "collapsed_sections": [
        "023Moe4h2V4a"
      ]
    },
    "accelerator": "GPU"
  },
  "cells": [
    {
      "cell_type": "code",
      "metadata": {
        "id": "SBgsHQkD2mQL",
        "colab": {
          "base_uri": "https://localhost:8080/",
          "height": 124
        },
        "outputId": "4e4512ad-48b7-46ec-e0cf-9f31da752a8c"
      },
      "source": [
        "from google.colab import drive\n",
        "drive.mount('/content/drive')"
      ],
      "execution_count": null,
      "outputs": [
        {
          "output_type": "stream",
          "text": [
            "Go to this URL in a browser: https://accounts.google.com/o/oauth2/auth?client_id=947318989803-6bn6qk8qdgf4n4g3pfee6491hc0brc4i.apps.googleusercontent.com&redirect_uri=urn%3aietf%3awg%3aoauth%3a2.0%3aoob&response_type=code&scope=email%20https%3a%2f%2fwww.googleapis.com%2fauth%2fdocs.test%20https%3a%2f%2fwww.googleapis.com%2fauth%2fdrive%20https%3a%2f%2fwww.googleapis.com%2fauth%2fdrive.photos.readonly%20https%3a%2f%2fwww.googleapis.com%2fauth%2fpeopleapi.readonly\n",
            "\n",
            "Enter your authorization code:\n",
            "··········\n",
            "Mounted at /content/drive\n"
          ],
          "name": "stdout"
        }
      ]
    },
    {
      "cell_type": "code",
      "metadata": {
        "id": "3iMG6_ps2Vxr",
        "colab": {
          "base_uri": "https://localhost:8080/",
          "height": 34
        },
        "outputId": "c62e7031-d456-4796-8a16-1bc2f46d5b24"
      },
      "source": [
        "# importing required packages\n",
        "import re\n",
        "import csv\n",
        "import numpy as np\n",
        "import tensorflow as tf\n",
        "import pandas as pd\n",
        "import keras\n",
        "from keras.models import Sequential\n",
        "from keras.layers import Dense\n",
        "from keras.layers import LSTM\n",
        "from keras.layers import Bidirectional\n",
        "from keras.layers.embeddings import Embedding\n",
        "from keras.layers.convolutional import Conv1D\n",
        "from keras.layers.convolutional import MaxPooling1D\n",
        "from keras import callbacks\n",
        "from keras.preprocessing import sequence\n",
        "from keras.models import load_model\n",
        "from keras.utils.vis_utils import plot_model\n",
        "from keras.utils import np_utils\n",
        "\n",
        "# fix random seed for reproducibility\n",
        "np.random.seed(7)"
      ],
      "execution_count": null,
      "outputs": [
        {
          "output_type": "stream",
          "text": [
            "Using TensorFlow backend.\n"
          ],
          "name": "stderr"
        }
      ]
    },
    {
      "cell_type": "markdown",
      "metadata": {
        "id": "LGBYbd2_2VyP"
      },
      "source": [
        "## Loading Data"
      ]
    },
    {
      "cell_type": "code",
      "metadata": {
        "id": "VOnZbWvb2VyV"
      },
      "source": [
        "phrase = []\n",
        "labels = []\n",
        "test_phrase = []\n",
        "\n",
        "# Memuat data traning\n",
        "#path_file_gita_train=\"/content/drive/My Drive/train.tsv\"\n",
        "#path_file_gita_test=\"/content/drive/My Drive/test.tsv\"\n",
        "path_file_mega_train=\"/content/drive/My Drive/train/train.tsv\"\n",
        "path_file_mega_test='/content/drive/My Drive/test/test.tsv'\n",
        "with open(path_file_mega_train) as fd:\n",
        "    rd = csv.reader(fd, delimiter=\"\\t\", quotechar='\"')\n",
        "    for row in rd:\n",
        "        phrase.append(row[2])\n",
        "        labels.append(row[3])\n",
        "\n",
        "# Memuat data testing\n",
        "with open(path_file_mega_test) as testing:\n",
        "    test = csv.reader(testing, delimiter=\"\\t\", quotechar='\"')\n",
        "    for s in test:\n",
        "        test_phrase.append(s[2])"
      ],
      "execution_count": null,
      "outputs": []
    },
    {
      "cell_type": "markdown",
      "metadata": {
        "id": "D_HN1AW12Vyp"
      },
      "source": [
        "## Data preprocessing"
      ]
    },
    {
      "cell_type": "code",
      "metadata": {
        "id": "4zVaFHA-2Vyt"
      },
      "source": [
        "# function to preprocess the sentences of the reviews.\n",
        "def clean_phrase(phrase):\n",
        "    #Remove punctuation (with a regular expression) and convert to lower case\n",
        "    words = (re.sub(\"[^a-zA-Z]\", \" \", phrase)).lower()\n",
        "    return words"
      ],
      "execution_count": null,
      "outputs": []
    },
    {
      "cell_type": "code",
      "metadata": {
        "id": "XuiJJ8Lj2VzC",
        "colab": {
          "base_uri": "https://localhost:8080/",
          "height": 210
        },
        "outputId": "20f7a504-742f-45d9-e111-f0adfcc9f2b2"
      },
      "source": [
        "# remove the first row of the train dataset which is currently the header\n",
        "del phrase[0]\n",
        "# display first 10 rows\n",
        "phrase[:10]"
      ],
      "execution_count": null,
      "outputs": [
        {
          "output_type": "execute_result",
          "data": {
            "text/plain": [
              "['A series of escapades demonstrating the adage that what is good for the goose is also good for the gander , some of which occasionally amuses but none of which amounts to much of a story .',\n",
              " 'A series of escapades demonstrating the adage that what is good for the goose',\n",
              " 'A series',\n",
              " 'A',\n",
              " 'series',\n",
              " 'of escapades demonstrating the adage that what is good for the goose',\n",
              " 'of',\n",
              " 'escapades demonstrating the adage that what is good for the goose',\n",
              " 'escapades',\n",
              " 'demonstrating the adage that what is good for the goose']"
            ]
          },
          "metadata": {
            "tags": []
          },
          "execution_count": 12
        }
      ]
    },
    {
      "cell_type": "code",
      "metadata": {
        "id": "v6xGo6g22VzR",
        "colab": {
          "base_uri": "https://localhost:8080/",
          "height": 190
        },
        "outputId": "66069452-75ee-4ab7-81bf-bbe83c05025a"
      },
      "source": [
        "# remove the first row of the testing dataset which is currently the header\n",
        "del test_phrase[0]\n",
        "# display first 10 rows\n",
        "test_phrase[:10]"
      ],
      "execution_count": null,
      "outputs": [
        {
          "output_type": "execute_result",
          "data": {
            "text/plain": [
              "['An intermittently pleasing but mostly routine effort .',\n",
              " 'An intermittently pleasing but mostly routine effort',\n",
              " 'An',\n",
              " 'intermittently pleasing but mostly routine effort',\n",
              " 'intermittently pleasing but mostly routine',\n",
              " 'intermittently pleasing but',\n",
              " 'intermittently pleasing',\n",
              " 'intermittently',\n",
              " 'pleasing',\n",
              " 'but']"
            ]
          },
          "metadata": {
            "tags": []
          },
          "execution_count": 13
        }
      ]
    },
    {
      "cell_type": "code",
      "metadata": {
        "id": "hx_Xcb5c2VzZ"
      },
      "source": [
        "# run preprocessing function on train dataset\n",
        "clean_phrases = []\n",
        "\n",
        "for x in phrase:\n",
        "    new = clean_phrase(x)\n",
        "    clean_phrases.append(new)\n",
        "    \n",
        "# run preprocessing function  on test dataset\n",
        "test_clean_phrases = []\n",
        "\n",
        "for xw in test_phrase:\n",
        "    new_test = clean_phrase(xw)\n",
        "    test_clean_phrases.append(new_test)"
      ],
      "execution_count": null,
      "outputs": []
    },
    {
      "cell_type": "code",
      "metadata": {
        "id": "fDg9PShR2Vzf",
        "colab": {
          "base_uri": "https://localhost:8080/",
          "height": 210
        },
        "outputId": "39329bbb-0b0c-47e9-95c5-bbd153f5aa77"
      },
      "source": [
        "# display first 10 rows\n",
        "clean_phrases[:10]"
      ],
      "execution_count": null,
      "outputs": [
        {
          "output_type": "execute_result",
          "data": {
            "text/plain": [
              "['a series of escapades demonstrating the adage that what is good for the goose is also good for the gander   some of which occasionally amuses but none of which amounts to much of a story  ',\n",
              " 'a series of escapades demonstrating the adage that what is good for the goose',\n",
              " 'a series',\n",
              " 'a',\n",
              " 'series',\n",
              " 'of escapades demonstrating the adage that what is good for the goose',\n",
              " 'of',\n",
              " 'escapades demonstrating the adage that what is good for the goose',\n",
              " 'escapades',\n",
              " 'demonstrating the adage that what is good for the goose']"
            ]
          },
          "metadata": {
            "tags": []
          },
          "execution_count": 15
        }
      ]
    },
    {
      "cell_type": "code",
      "metadata": {
        "id": "aOOHO9g_2Vzs",
        "colab": {
          "base_uri": "https://localhost:8080/",
          "height": 190
        },
        "outputId": "0d9b70fa-587e-4bf0-8611-bef7acd39361"
      },
      "source": [
        "# display first 10 rows\n",
        "test_clean_phrases[:10]"
      ],
      "execution_count": null,
      "outputs": [
        {
          "output_type": "execute_result",
          "data": {
            "text/plain": [
              "['an intermittently pleasing but mostly routine effort  ',\n",
              " 'an intermittently pleasing but mostly routine effort',\n",
              " 'an',\n",
              " 'intermittently pleasing but mostly routine effort',\n",
              " 'intermittently pleasing but mostly routine',\n",
              " 'intermittently pleasing but',\n",
              " 'intermittently pleasing',\n",
              " 'intermittently',\n",
              " 'pleasing',\n",
              " 'but']"
            ]
          },
          "metadata": {
            "tags": []
          },
          "execution_count": 16
        }
      ]
    },
    {
      "cell_type": "code",
      "metadata": {
        "id": "OOGg1bmh2Vzy"
      },
      "source": [
        "# join the rows as a string with '/n' as delimiter\n",
        "all_text=' /n '.join(clean_phrases)\n",
        "\n",
        "test_all_text=' /n '.join(test_clean_phrases)"
      ],
      "execution_count": null,
      "outputs": []
    },
    {
      "cell_type": "code",
      "metadata": {
        "id": "8cKt7NNh2Vz4",
        "colab": {
          "base_uri": "https://localhost:8080/",
          "height": 34
        },
        "outputId": "bd587988-94e8-4788-bb8f-c769e9db67f4"
      },
      "source": [
        "# display first 100 characters\n",
        "all_text[:100]"
      ],
      "execution_count": null,
      "outputs": [
        {
          "output_type": "execute_result",
          "data": {
            "text/plain": [
              "'a series of escapades demonstrating the adage that what is good for the goose is also good for the g'"
            ]
          },
          "metadata": {
            "tags": []
          },
          "execution_count": 18
        }
      ]
    },
    {
      "cell_type": "code",
      "metadata": {
        "id": "oblkd0ix2V0A",
        "colab": {
          "base_uri": "https://localhost:8080/",
          "height": 34
        },
        "outputId": "bc873507-c7a8-481b-cdea-ea05c0800627"
      },
      "source": [
        "# display first 100 characters\n",
        "test_all_text[:100]"
      ],
      "execution_count": null,
      "outputs": [
        {
          "output_type": "execute_result",
          "data": {
            "text/plain": [
              "'an intermittently pleasing but mostly routine effort   /n an intermittently pleasing but mostly rout'"
            ]
          },
          "metadata": {
            "tags": []
          },
          "execution_count": 19
        }
      ]
    },
    {
      "cell_type": "code",
      "metadata": {
        "id": "xtEYXm-t2V0L"
      },
      "source": [
        "# split each reviews of the training dataset and join them as a string\n",
        "reviews = all_text.split(' /n ')\n",
        "all_text = ' '.join(reviews)\n",
        "\n",
        "# split each word of the training dataset in the string to a list\n",
        "words = all_text.split()"
      ],
      "execution_count": null,
      "outputs": []
    },
    {
      "cell_type": "code",
      "metadata": {
        "id": "Xr0ddOI52V0U"
      },
      "source": [
        "# split each reviews of the training dataset and join them as a string\n",
        "test_reviews = test_all_text.split(' /n ')\n",
        "test_all_text = ' '.join(test_reviews)\n",
        "\n",
        "# split each word of the training dataset in the string to a list\n",
        "test_words = test_all_text.split()"
      ],
      "execution_count": null,
      "outputs": []
    },
    {
      "cell_type": "code",
      "metadata": {
        "id": "qDMJh6K92V0b",
        "colab": {
          "base_uri": "https://localhost:8080/",
          "height": 190
        },
        "outputId": "bbe2fc6b-535e-480f-d7a8-6415f5033ca1"
      },
      "source": [
        "words[:10]"
      ],
      "execution_count": null,
      "outputs": [
        {
          "output_type": "execute_result",
          "data": {
            "text/plain": [
              "['a',\n",
              " 'series',\n",
              " 'of',\n",
              " 'escapades',\n",
              " 'demonstrating',\n",
              " 'the',\n",
              " 'adage',\n",
              " 'that',\n",
              " 'what',\n",
              " 'is']"
            ]
          },
          "metadata": {
            "tags": []
          },
          "execution_count": 22
        }
      ]
    },
    {
      "cell_type": "code",
      "metadata": {
        "id": "JoThARmU2V0h",
        "colab": {
          "base_uri": "https://localhost:8080/",
          "height": 190
        },
        "outputId": "f440cf55-1220-428d-8861-6e60cb39e50c"
      },
      "source": [
        "test_words[:10]"
      ],
      "execution_count": null,
      "outputs": [
        {
          "output_type": "execute_result",
          "data": {
            "text/plain": [
              "['an',\n",
              " 'intermittently',\n",
              " 'pleasing',\n",
              " 'but',\n",
              " 'mostly',\n",
              " 'routine',\n",
              " 'effort',\n",
              " 'an',\n",
              " 'intermittently',\n",
              " 'pleasing']"
            ]
          },
          "metadata": {
            "tags": []
          },
          "execution_count": 23
        }
      ]
    },
    {
      "cell_type": "code",
      "metadata": {
        "id": "7zlvSlYJ2V0o",
        "colab": {
          "base_uri": "https://localhost:8080/",
          "height": 52
        },
        "outputId": "0a03fec3-16ea-420b-ca0c-dfa9db5b2686"
      },
      "source": [
        "# print no of rows for train and test \n",
        "print(\"Train reviews: {}\".format(len(reviews)))\n",
        "print(\"Test reviews: {}\".format(len(test_reviews)))"
      ],
      "execution_count": null,
      "outputs": [
        {
          "output_type": "stream",
          "text": [
            "Train reviews: 156060\n",
            "Test reviews: 66292\n"
          ],
          "name": "stdout"
        }
      ]
    },
    {
      "cell_type": "code",
      "metadata": {
        "scrolled": true,
        "id": "TIerYM392V0u",
        "colab": {
          "base_uri": "https://localhost:8080/",
          "height": 210
        },
        "outputId": "ce9516ee-0fd2-4cf4-dc70-07a776ce8d2a"
      },
      "source": [
        "reviews[:10]"
      ],
      "execution_count": null,
      "outputs": [
        {
          "output_type": "execute_result",
          "data": {
            "text/plain": [
              "['a series of escapades demonstrating the adage that what is good for the goose is also good for the gander   some of which occasionally amuses but none of which amounts to much of a story  ',\n",
              " 'a series of escapades demonstrating the adage that what is good for the goose',\n",
              " 'a series',\n",
              " 'a',\n",
              " 'series',\n",
              " 'of escapades demonstrating the adage that what is good for the goose',\n",
              " 'of',\n",
              " 'escapades demonstrating the adage that what is good for the goose',\n",
              " 'escapades',\n",
              " 'demonstrating the adage that what is good for the goose']"
            ]
          },
          "metadata": {
            "tags": []
          },
          "execution_count": 25
        }
      ]
    },
    {
      "cell_type": "code",
      "metadata": {
        "id": "_QrZpbqL2V01",
        "colab": {
          "base_uri": "https://localhost:8080/",
          "height": 190
        },
        "outputId": "cf5a31c4-5f23-473a-c7d5-66fad88c3270"
      },
      "source": [
        "test_reviews[:10]"
      ],
      "execution_count": null,
      "outputs": [
        {
          "output_type": "execute_result",
          "data": {
            "text/plain": [
              "['an intermittently pleasing but mostly routine effort  ',\n",
              " 'an intermittently pleasing but mostly routine effort',\n",
              " 'an',\n",
              " 'intermittently pleasing but mostly routine effort',\n",
              " 'intermittently pleasing but mostly routine',\n",
              " 'intermittently pleasing but',\n",
              " 'intermittently pleasing',\n",
              " 'intermittently',\n",
              " 'pleasing',\n",
              " 'but']"
            ]
          },
          "metadata": {
            "tags": []
          },
          "execution_count": 26
        }
      ]
    },
    {
      "cell_type": "code",
      "metadata": {
        "id": "yJLOC1ET2V07",
        "colab": {
          "base_uri": "https://localhost:8080/",
          "height": 34
        },
        "outputId": "d7094c85-abc2-497a-9194-ab08e7134e8e"
      },
      "source": [
        "# remove the first row of the labels which is currently the header\n",
        "del labels[0]\n",
        "\n",
        "# display first 10 rows\n",
        "labels[:10]"
      ],
      "execution_count": null,
      "outputs": [
        {
          "output_type": "execute_result",
          "data": {
            "text/plain": [
              "['1', '2', '2', '2', '2', '2', '2', '2', '2', '2']"
            ]
          },
          "metadata": {
            "tags": []
          },
          "execution_count": 27
        }
      ]
    },
    {
      "cell_type": "code",
      "metadata": {
        "id": "p2pIHNQE2V1B",
        "colab": {
          "base_uri": "https://localhost:8080/",
          "height": 34
        },
        "outputId": "1ae66722-bb0f-47c3-ae53-e019d784f5d4"
      },
      "source": [
        "# preprocessing on the label list\n",
        "labels_cleaned = '\\n'.join(labels)\n",
        "labels_cleaned_last = labels_cleaned.split('\\n')\n",
        "\n",
        "\n",
        "len(labels_cleaned_last)"
      ],
      "execution_count": null,
      "outputs": [
        {
          "output_type": "execute_result",
          "data": {
            "text/plain": [
              "156060"
            ]
          },
          "metadata": {
            "tags": []
          },
          "execution_count": 28
        }
      ]
    },
    {
      "cell_type": "code",
      "metadata": {
        "id": "zwKgOgGc2V1K",
        "colab": {
          "base_uri": "https://localhost:8080/",
          "height": 34
        },
        "outputId": "2d713722-b367-42d8-ca54-466059c258ac"
      },
      "source": [
        "# convert list to an array\n",
        "labels_sentiment = [int(i) for i in labels_cleaned_last]\n",
        "labels = np.array(labels_sentiment)\n",
        "labels"
      ],
      "execution_count": null,
      "outputs": [
        {
          "output_type": "execute_result",
          "data": {
            "text/plain": [
              "array([1, 2, 2, ..., 3, 2, 2])"
            ]
          },
          "metadata": {
            "tags": []
          },
          "execution_count": 29
        }
      ]
    },
    {
      "cell_type": "code",
      "metadata": {
        "id": "4JMM_liP2V1Q",
        "colab": {
          "base_uri": "https://localhost:8080/",
          "height": 34
        },
        "outputId": "9e3767fc-c699-4284-ce62-2779a50c3e9d"
      },
      "source": [
        "# check number of unique labels in the labels array\n",
        "np.unique(labels)"
      ],
      "execution_count": null,
      "outputs": [
        {
          "output_type": "execute_result",
          "data": {
            "text/plain": [
              "array([0, 1, 2, 3, 4])"
            ]
          },
          "metadata": {
            "tags": []
          },
          "execution_count": 30
        }
      ]
    },
    {
      "cell_type": "code",
      "metadata": {
        "id": "q6L_Qlbz2V1W",
        "colab": {
          "base_uri": "https://localhost:8080/",
          "height": 34
        },
        "outputId": "613260d9-d195-4ca1-d5e6-15b2bdc92356"
      },
      "source": [
        "len(labels)"
      ],
      "execution_count": null,
      "outputs": [
        {
          "output_type": "execute_result",
          "data": {
            "text/plain": [
              "156060"
            ]
          },
          "metadata": {
            "tags": []
          },
          "execution_count": 31
        }
      ]
    },
    {
      "cell_type": "code",
      "metadata": {
        "id": "huoEw5lm2V1d",
        "colab": {
          "base_uri": "https://localhost:8080/",
          "height": 34
        },
        "outputId": "567a3533-229f-4847-81fb-5a301b74b5fc"
      },
      "source": [
        "len(words)"
      ],
      "execution_count": null,
      "outputs": [
        {
          "output_type": "execute_result",
          "data": {
            "text/plain": [
              "1072621"
            ]
          },
          "metadata": {
            "tags": []
          },
          "execution_count": 32
        }
      ]
    },
    {
      "cell_type": "code",
      "metadata": {
        "id": "KNQV75jM2V1i",
        "colab": {
          "base_uri": "https://localhost:8080/",
          "height": 34
        },
        "outputId": "e70ff323-f28e-4ad1-fcc9-b26294a216bb"
      },
      "source": [
        "len(test_words)"
      ],
      "execution_count": null,
      "outputs": [
        {
          "output_type": "execute_result",
          "data": {
            "text/plain": [
              "423806"
            ]
          },
          "metadata": {
            "tags": []
          },
          "execution_count": 33
        }
      ]
    },
    {
      "cell_type": "code",
      "metadata": {
        "id": "9S7hTWlJ2V1s"
      },
      "source": [
        "# combine the list that contains the individual words in the datasets\n",
        "full_words = words + test_words"
      ],
      "execution_count": null,
      "outputs": []
    },
    {
      "cell_type": "code",
      "metadata": {
        "id": "JjzVYy_E2V1y",
        "colab": {
          "base_uri": "https://localhost:8080/",
          "height": 34
        },
        "outputId": "89297230-90cc-484b-b795-704271caeeef"
      },
      "source": [
        "len(full_words)"
      ],
      "execution_count": null,
      "outputs": [
        {
          "output_type": "execute_result",
          "data": {
            "text/plain": [
              "1496427"
            ]
          },
          "metadata": {
            "tags": []
          },
          "execution_count": 35
        }
      ]
    },
    {
      "cell_type": "code",
      "metadata": {
        "id": "N9MCUb8f2V13"
      },
      "source": [
        "#create dictionaries that map the words in the vocabulary to integers. \n",
        "#Then we can convert each of our reviews into integers so they can be passed into the network.\n",
        "\n",
        "from collections import Counter\n",
        "counts = Counter(full_words)\n",
        "vocab = sorted(counts, key=counts.get, reverse=True)\n",
        "\n",
        "#Build a dictionary that maps words to integers\n",
        "vocab_to_int = {word: ii for ii, word in enumerate(vocab, 1)}"
      ],
      "execution_count": null,
      "outputs": []
    },
    {
      "cell_type": "code",
      "metadata": {
        "id": "vIKi33132V1-"
      },
      "source": [
        "#Encode the words with integers. \n",
        "\n",
        "reviews_ints = []\n",
        "for each in reviews:\n",
        "    reviews_ints.append([vocab_to_int[word] for word in each.split( )])\n",
        "    \n",
        "test_reviews_ints = []\n",
        "for eachs in test_reviews:\n",
        "    test_reviews_ints.append([vocab_to_int[word] for word in eachs.split( )])"
      ],
      "execution_count": null,
      "outputs": []
    },
    {
      "cell_type": "code",
      "metadata": {
        "scrolled": true,
        "id": "TlmeoUK92V2E",
        "colab": {
          "base_uri": "https://localhost:8080/",
          "height": 34
        },
        "outputId": "36b0d3c7-fd72-4d31-e9d6-1dafab8a5208"
      },
      "source": [
        "# check no of unique words in the corpus\n",
        "# this will be the features to be extracted\n",
        "len(vocab_to_int)"
      ],
      "execution_count": null,
      "outputs": [
        {
          "output_type": "execute_result",
          "data": {
            "text/plain": [
              "17582"
            ]
          },
          "metadata": {
            "tags": []
          },
          "execution_count": 38
        }
      ]
    },
    {
      "cell_type": "code",
      "metadata": {
        "id": "QWakdkQX2V2K",
        "colab": {
          "base_uri": "https://localhost:8080/",
          "height": 34
        },
        "outputId": "4e323c47-fa05-4a8e-c6a3-b2f3d91114d9"
      },
      "source": [
        "len(reviews_ints)"
      ],
      "execution_count": null,
      "outputs": [
        {
          "output_type": "execute_result",
          "data": {
            "text/plain": [
              "156060"
            ]
          },
          "metadata": {
            "tags": []
          },
          "execution_count": 39
        }
      ]
    },
    {
      "cell_type": "code",
      "metadata": {
        "id": "LIS6taL62V2P",
        "colab": {
          "base_uri": "https://localhost:8080/",
          "height": 34
        },
        "outputId": "ce9143aa-fa55-4d52-a517-a55ceef7d877"
      },
      "source": [
        "len(test_reviews_ints)"
      ],
      "execution_count": null,
      "outputs": [
        {
          "output_type": "execute_result",
          "data": {
            "text/plain": [
              "66292"
            ]
          },
          "metadata": {
            "tags": []
          },
          "execution_count": 40
        }
      ]
    },
    {
      "cell_type": "code",
      "metadata": {
        "id": "K-KBYi-02V2W",
        "colab": {
          "base_uri": "https://localhost:8080/",
          "height": 780
        },
        "outputId": "cf7ed701-2f0d-4bff-aebb-8546be333a8f"
      },
      "source": [
        "reviews_ints[:10]"
      ],
      "execution_count": null,
      "outputs": [
        {
          "output_type": "execute_result",
          "data": {
            "text/plain": [
              "[[2,\n",
              "  315,\n",
              "  3,\n",
              "  16380,\n",
              "  7573,\n",
              "  1,\n",
              "  8219,\n",
              "  9,\n",
              "  53,\n",
              "  8,\n",
              "  47,\n",
              "  13,\n",
              "  1,\n",
              "  3904,\n",
              "  8,\n",
              "  186,\n",
              "  47,\n",
              "  13,\n",
              "  1,\n",
              "  12872,\n",
              "  61,\n",
              "  3,\n",
              "  88,\n",
              "  591,\n",
              "  12019,\n",
              "  19,\n",
              "  616,\n",
              "  3,\n",
              "  88,\n",
              "  2784,\n",
              "  5,\n",
              "  52,\n",
              "  3,\n",
              "  2,\n",
              "  42],\n",
              " [2, 315, 3, 16380, 7573, 1, 8219, 9, 53, 8, 47, 13, 1, 3904],\n",
              " [2, 315],\n",
              " [2],\n",
              " [315],\n",
              " [3, 16380, 7573, 1, 8219, 9, 53, 8, 47, 13, 1, 3904],\n",
              " [3],\n",
              " [16380, 7573, 1, 8219, 9, 53, 8, 47, 13, 1, 3904],\n",
              " [16380],\n",
              " [7573, 1, 8219, 9, 53, 8, 47, 13, 1, 3904]]"
            ]
          },
          "metadata": {
            "tags": []
          },
          "execution_count": 41
        }
      ]
    },
    {
      "cell_type": "code",
      "metadata": {
        "id": "rFHC_hVk2V2c",
        "colab": {
          "base_uri": "https://localhost:8080/",
          "height": 52
        },
        "outputId": "1a8c02cd-ffa2-4040-e9ae-6916f5030750"
      },
      "source": [
        "review_lens = Counter([len(x) for x in reviews_ints])\n",
        "print(\"Zero-length reviews: {}\".format(review_lens[0]))\n",
        "print(\"Maximum review length: {}\".format(max(review_lens)))"
      ],
      "execution_count": null,
      "outputs": [
        {
          "output_type": "stream",
          "text": [
            "Zero-length reviews: 159\n",
            "Maximum review length: 48\n"
          ],
          "name": "stdout"
        }
      ]
    },
    {
      "cell_type": "code",
      "metadata": {
        "id": "qa6te7zV2V2h",
        "colab": {
          "base_uri": "https://localhost:8080/",
          "height": 34
        },
        "outputId": "3397244f-95b4-4749-cb40-d9f407f3b9f3"
      },
      "source": [
        "# check total no of rows not having zero length reviews\n",
        "non_zero_idx = [ii for ii, review in enumerate(reviews_ints) if len(review) != 0]\n",
        "len(non_zero_idx)"
      ],
      "execution_count": null,
      "outputs": [
        {
          "output_type": "execute_result",
          "data": {
            "text/plain": [
              "155901"
            ]
          },
          "metadata": {
            "tags": []
          },
          "execution_count": 43
        }
      ]
    },
    {
      "cell_type": "code",
      "metadata": {
        "id": "EmvmHq9G2V2q"
      },
      "source": [
        "# remove zero length reviews\n",
        "reviews_ints = [reviews_ints[ii] for ii in non_zero_idx]\n",
        "labels = np.array([labels[ii] for ii in non_zero_idx])"
      ],
      "execution_count": null,
      "outputs": []
    },
    {
      "cell_type": "code",
      "metadata": {
        "id": "DaLafvzh2V2z",
        "colab": {
          "base_uri": "https://localhost:8080/",
          "height": 52
        },
        "outputId": "edc26c3b-c348-4af1-e190-7c8e15a4652a"
      },
      "source": [
        "#check again\n",
        "review_lens = Counter([len(x) for x in reviews_ints])\n",
        "print(\"Zero-length reviews: {}\".format(review_lens[0]))\n",
        "print(\"Maximum review length: {}\".format(max(review_lens)))"
      ],
      "execution_count": null,
      "outputs": [
        {
          "output_type": "stream",
          "text": [
            "Zero-length reviews: 0\n",
            "Maximum review length: 48\n"
          ],
          "name": "stdout"
        }
      ]
    },
    {
      "cell_type": "code",
      "metadata": {
        "id": "-zATUMJ72V26",
        "colab": {
          "base_uri": "https://localhost:8080/",
          "height": 34
        },
        "outputId": "17585198-29b3-4139-a9fb-bbb268d076ac"
      },
      "source": [
        "len(reviews_ints)"
      ],
      "execution_count": null,
      "outputs": [
        {
          "output_type": "execute_result",
          "data": {
            "text/plain": [
              "155901"
            ]
          },
          "metadata": {
            "tags": []
          },
          "execution_count": 46
        }
      ]
    },
    {
      "cell_type": "code",
      "metadata": {
        "id": "gQnr-JI92V3B"
      },
      "source": [
        "#As maximum review length too many steps for RNN. Let's truncate to 12 steps. \n",
        "#For reviews shorter than 12 steps, we'll pad with 0s. For reviews longer than 12 steps,\n",
        "# we will truncate them to the first 12 characters.\n",
        "\n",
        "max_review_length = 12\n",
        "X_train = sequence.pad_sequences(reviews_ints, maxlen=max_review_length)\n",
        "x_test = sequence.pad_sequences(test_reviews_ints, maxlen=max_review_length)"
      ],
      "execution_count": null,
      "outputs": []
    },
    {
      "cell_type": "code",
      "metadata": {
        "id": "FfxA6ndW2V3L",
        "colab": {
          "base_uri": "https://localhost:8080/",
          "height": 34
        },
        "outputId": "8e0f634f-3c5f-4372-f6f6-f3725eb36134"
      },
      "source": [
        "print(X_train.shape)"
      ],
      "execution_count": null,
      "outputs": [
        {
          "output_type": "stream",
          "text": [
            "(155901, 12)\n"
          ],
          "name": "stdout"
        }
      ]
    },
    {
      "cell_type": "code",
      "metadata": {
        "id": "8cKdgvv92V3S",
        "colab": {
          "base_uri": "https://localhost:8080/",
          "height": 34
        },
        "outputId": "fa286ced-d0cc-4c15-db82-99eca1386aa8"
      },
      "source": [
        "print(x_test.shape)"
      ],
      "execution_count": null,
      "outputs": [
        {
          "output_type": "stream",
          "text": [
            "(66292, 12)\n"
          ],
          "name": "stdout"
        }
      ]
    },
    {
      "cell_type": "code",
      "metadata": {
        "id": "5yRpXDrH2V3X",
        "colab": {
          "base_uri": "https://localhost:8080/",
          "height": 190
        },
        "outputId": "6d6a654b-03af-4505-8030-c969a4b46261"
      },
      "source": [
        "X_train[:5]"
      ],
      "execution_count": null,
      "outputs": [
        {
          "output_type": "execute_result",
          "data": {
            "text/plain": [
              "array([[  591, 12019,    19,   616,     3,    88,  2784,     5,    52,\n",
              "            3,     2,    42],\n",
              "       [    3, 16380,  7573,     1,  8219,     9,    53,     8,    47,\n",
              "           13,     1,  3904],\n",
              "       [    0,     0,     0,     0,     0,     0,     0,     0,     0,\n",
              "            0,     2,   315],\n",
              "       [    0,     0,     0,     0,     0,     0,     0,     0,     0,\n",
              "            0,     0,     2],\n",
              "       [    0,     0,     0,     0,     0,     0,     0,     0,     0,\n",
              "            0,     0,   315]], dtype=int32)"
            ]
          },
          "metadata": {
            "tags": []
          },
          "execution_count": 50
        }
      ]
    },
    {
      "cell_type": "code",
      "metadata": {
        "id": "BTraItFS2V3g",
        "colab": {
          "base_uri": "https://localhost:8080/",
          "height": 190
        },
        "outputId": "3c30eb43-e400-4d16-900c-df79dbd536f3"
      },
      "source": [
        "x_test[:5]"
      ],
      "execution_count": null,
      "outputs": [
        {
          "output_type": "execute_result",
          "data": {
            "text/plain": [
              "array([[   0,    0,    0,    0,    0,   16, 2829, 1796,   19,  528, 1015,\n",
              "         398],\n",
              "       [   0,    0,    0,    0,    0,   16, 2829, 1796,   19,  528, 1015,\n",
              "         398],\n",
              "       [   0,    0,    0,    0,    0,    0,    0,    0,    0,    0,    0,\n",
              "          16],\n",
              "       [   0,    0,    0,    0,    0,    0, 2829, 1796,   19,  528, 1015,\n",
              "         398],\n",
              "       [   0,    0,    0,    0,    0,    0,    0, 2829, 1796,   19,  528,\n",
              "        1015]], dtype=int32)"
            ]
          },
          "metadata": {
            "tags": []
          },
          "execution_count": 51
        }
      ]
    },
    {
      "cell_type": "code",
      "metadata": {
        "id": "JSlHb1jV2V3o",
        "colab": {
          "base_uri": "https://localhost:8080/",
          "height": 34
        },
        "outputId": "0687d927-1ae5-468e-dd16-2c41afab889c"
      },
      "source": [
        "# check no of unique words in the corpus\n",
        "# Adding 1 because we use 0's for padding, dictionary started at 1\n",
        "# this value will be passed to the embedding layer\n",
        "top_words = len(vocab_to_int) + 1\n",
        "print(top_words)"
      ],
      "execution_count": null,
      "outputs": [
        {
          "output_type": "stream",
          "text": [
            "17583\n"
          ],
          "name": "stdout"
        }
      ]
    },
    {
      "cell_type": "code",
      "metadata": {
        "id": "vw5m8WL22V33"
      },
      "source": [
        "# One Hot Encoding the labels\n",
        "y_train = np_utils.to_categorical(labels, 5)"
      ],
      "execution_count": null,
      "outputs": []
    },
    {
      "cell_type": "code",
      "metadata": {
        "id": "7DhPl7lK2V38",
        "colab": {
          "base_uri": "https://localhost:8080/",
          "height": 34
        },
        "outputId": "13f8b3e0-06d0-4e6f-f086-27f3fcda0d98"
      },
      "source": [
        "y_train.shape"
      ],
      "execution_count": null,
      "outputs": [
        {
          "output_type": "execute_result",
          "data": {
            "text/plain": [
              "(155901, 5)"
            ]
          },
          "metadata": {
            "tags": []
          },
          "execution_count": 54
        }
      ]
    },
    {
      "cell_type": "markdown",
      "metadata": {
        "id": "EoaGCF1S2V4G"
      },
      "source": [
        "## Training"
      ]
    },
    {
      "cell_type": "code",
      "metadata": {
        "id": "TJH-znHQ2V4I"
      },
      "source": [
        "# original\n",
        "# Creating Callbacks\n",
        "# ModelCheckpoints is used to save the model after every epoch\n",
        "# EarlyStopping is used to stop training when the validation loss has not improved after 2 epochs\n",
        "# Tensorboard is used tovisualize dynamic graphs of the training and test metrics\n",
        "cbks = [callbacks.ModelCheckpoint(filepath='./checkpoint_model.h5', monitor='val_loss', save_best_only=True),\n",
        "            callbacks.EarlyStopping(monitor='val_loss', patience=2),callbacks.TensorBoard(log_dir='./logs', histogram_freq=0, write_graph=True, write_images=False)]"
      ],
      "execution_count": null,
      "outputs": []
    },
    {
      "cell_type": "code",
      "metadata": {
        "id": "PXH9zsmwPNdy"
      },
      "source": [
        "#editted\n",
        "cbks = [callbacks.ModelCheckpoint(filepath='./checkpoint_model.new_banget', monitor='val_loss', save_best_only=True)]"
      ],
      "execution_count": null,
      "outputs": []
    },
    {
      "cell_type": "code",
      "metadata": {
        "id": "yWSFzmOW6AQd"
      },
      "source": [
        "params = {\n",
        "    'embedding_size': [64, 100, 128],\n",
        "    'units'         : [100,150,200],\n",
        "    'l2_ker'        : [0, 0.01],\n",
        "    'l2_rec'        : [0, 0.01],\n",
        "    'num_filters'   : [200,250,300],\n",
        "    'kernel_size'   : [3,4,5],\n",
        "    'l2_cnn'        : [0, 0.01],\n",
        "    'l2_dense'      : [0, 0.01],\n",
        "    'learning_rate' : [1e-2, 1e-3, 1e-4]\n",
        "}"
      ],
      "execution_count": null,
      "outputs": []
    },
    {
      "cell_type": "code",
      "metadata": {
        "id": "LZqsN8r02V4O",
        "colab": {
          "base_uri": "https://localhost:8080/",
          "height": 817
        },
        "outputId": "14c21f58-dc43-4723-eb72-abe9143dae8d"
      },
      "source": [
        "# original\n",
        "# Final Model Architecture\n",
        "\n",
        "# embedding layer size\n",
        "embedding_vecor_length = 32\n",
        "\n",
        "model = Sequential()\n",
        "model.add(Embedding(19479, embedding_vecor_length, input_length=max_review_length, dropout=0.2))\n",
        "model.add(Conv1D(filters=32, kernel_size=3, padding='same', activation='relu'))\n",
        "model.add(MaxPooling1D(pool_size=2))\n",
        "# 1 layer of 100 units in the hidden layers of the LSTM cells\n",
        "model.add(Bidirectional(LSTM(100)))\n",
        "model.add(Dense(5, activation='softmax'))\n",
        "model.compile(loss='categorical_crossentropy', optimizer='adam', metrics=['accuracy'])\n",
        "print(model.summary())\n",
        "#model.fit(X_train, y_train,validation_split=0.20, epochs=5,verbose=1, batch_size=32,callbacks=cbks) #nerusin dari epoch 2 yg disave sama orangnya\n",
        "model.fit(X_train, y_train,validation_split=0.20, epochs=10,verbose=1, batch_size=32) #mulai dari awal"
      ],
      "execution_count": null,
      "outputs": [
        {
          "output_type": "stream",
          "text": [
            "/usr/local/lib/python3.6/dist-packages/ipykernel_launcher.py:4: UserWarning: The `dropout` argument is no longer support in `Embedding`. You can apply a `keras.layers.SpatialDropout1D` layer right after the `Embedding` layer to get the same behavior.\n",
            "  after removing the cwd from sys.path.\n"
          ],
          "name": "stderr"
        },
        {
          "output_type": "stream",
          "text": [
            "Model: \"sequential_5\"\n",
            "_________________________________________________________________\n",
            "Layer (type)                 Output Shape              Param #   \n",
            "=================================================================\n",
            "embedding_4 (Embedding)      (None, 12, 32)            623328    \n",
            "_________________________________________________________________\n",
            "conv1d_4 (Conv1D)            (None, 12, 32)            3104      \n",
            "_________________________________________________________________\n",
            "max_pooling1d_4 (MaxPooling1 (None, 6, 32)             0         \n",
            "_________________________________________________________________\n",
            "bidirectional_4 (Bidirection (None, 200)               106400    \n",
            "_________________________________________________________________\n",
            "dense_4 (Dense)              (None, 5)                 1005      \n",
            "=================================================================\n",
            "Total params: 733,837\n",
            "Trainable params: 733,837\n",
            "Non-trainable params: 0\n",
            "_________________________________________________________________\n",
            "None\n"
          ],
          "name": "stdout"
        },
        {
          "output_type": "stream",
          "text": [
            "/usr/local/lib/python3.6/dist-packages/tensorflow/python/framework/indexed_slices.py:434: UserWarning: Converting sparse IndexedSlices to a dense Tensor of unknown shape. This may consume a large amount of memory.\n",
            "  \"Converting sparse IndexedSlices to a dense Tensor of unknown shape. \"\n"
          ],
          "name": "stderr"
        },
        {
          "output_type": "stream",
          "text": [
            "Train on 124720 samples, validate on 31181 samples\n",
            "Epoch 1/10\n",
            "124720/124720 [==============================] - 146s 1ms/step - loss: 0.9608 - accuracy: 0.6118 - val_loss: 1.0284 - val_accuracy: 0.5846\n",
            "Epoch 2/10\n",
            "124720/124720 [==============================] - 143s 1ms/step - loss: 0.7714 - accuracy: 0.6853 - val_loss: 1.0072 - val_accuracy: 0.5949\n",
            "Epoch 3/10\n",
            "124720/124720 [==============================] - 140s 1ms/step - loss: 0.6998 - accuracy: 0.7105 - val_loss: 1.0571 - val_accuracy: 0.5889\n",
            "Epoch 4/10\n",
            "124720/124720 [==============================] - 141s 1ms/step - loss: 0.6457 - accuracy: 0.7311 - val_loss: 1.0634 - val_accuracy: 0.5892\n",
            "Epoch 5/10\n",
            "124720/124720 [==============================] - 140s 1ms/step - loss: 0.6025 - accuracy: 0.7472 - val_loss: 1.0935 - val_accuracy: 0.5793\n",
            "Epoch 6/10\n",
            "124720/124720 [==============================] - 141s 1ms/step - loss: 0.5665 - accuracy: 0.7614 - val_loss: 1.1485 - val_accuracy: 0.5633\n",
            "Epoch 7/10\n",
            "124720/124720 [==============================] - 142s 1ms/step - loss: 0.5344 - accuracy: 0.7750 - val_loss: 1.1571 - val_accuracy: 0.5646\n",
            "Epoch 8/10\n",
            "124720/124720 [==============================] - 141s 1ms/step - loss: 0.5067 - accuracy: 0.7868 - val_loss: 1.2381 - val_accuracy: 0.5404\n",
            "Epoch 9/10\n",
            "124720/124720 [==============================] - 140s 1ms/step - loss: 0.4823 - accuracy: 0.7954 - val_loss: 1.2631 - val_accuracy: 0.5378\n",
            "Epoch 10/10\n",
            "124720/124720 [==============================] - 139s 1ms/step - loss: 0.4603 - accuracy: 0.8046 - val_loss: 1.3103 - val_accuracy: 0.5351\n"
          ],
          "name": "stdout"
        },
        {
          "output_type": "execute_result",
          "data": {
            "text/plain": [
              "<keras.callbacks.callbacks.History at 0x7f6ab8dfb7b8>"
            ]
          },
          "metadata": {
            "tags": []
          },
          "execution_count": 56
        }
      ]
    },
    {
      "cell_type": "code",
      "metadata": {
        "id": "swhtM7qiJH-X"
      },
      "source": [
        "# editted by mega\n",
        "# fungsi untuk training\n",
        "def train(embedding_size, num_filters, kernel_sizes, regularizer, unit, learning_rate):\n",
        "  model = Sequential()\n",
        "  model.add(Embedding(19479,embedding_size, input_length=max_review_length, dropout=0.2))\n",
        "  model.add(Conv1D(filters= num_filters, kernel_size= kernel_sizes, padding='same', activation='relu', kernel_regularizer=keras.regularizers.l2(regularizer)))\n",
        "  model.add(MaxPooling1D(pool_size=2))\n",
        "  # 1 layer of 100 units in the hidden layers of the LSTM cells\n",
        "  model.add(Bidirectional(LSTM(unit,kernel_regularizer=keras.regularizers.l2(regularizer))))\n",
        "  model.add(Dense(5, activation='softmax'))\n",
        "  model.compile(loss='categorical_crossentropy', optimizer=tf.keras.optimizers.Adam(lr=learning_rate), metrics=['accuracy'])\n",
        "  print(model.summary())\n",
        "  model.fit(X_train, y_train,validation_split=0.20, epochs=10,verbose=1, batch_size=32,callbacks=cbks)"
      ],
      "execution_count": null,
      "outputs": []
    },
    {
      "cell_type": "code",
      "metadata": {
        "id": "rCZ_sUfNLaiI",
        "colab": {
          "base_uri": "https://localhost:8080/",
          "height": 1000
        },
        "outputId": "2a5d90d6-9e2e-475f-f04a-9da8557afd09"
      },
      "source": [
        "for i in range (len(params['l2_cnn'])):\n",
        "  regularizer=params['l2_cnn'][i]\n",
        "  for j in range (len(params['embedding_size'])):\n",
        "    embedding_size=params['embedding_size'][j]\n",
        "    for k in range (len(params['num_filters'])):\n",
        "      num_filters=params['num_filters'][k]\n",
        "      for l in range (len(params['kernel_size'])):\n",
        "        kernel_sizes=params['kernel_size'][l]\n",
        "        for m in range (len(params['units'])):\n",
        "          unit=params['units'][m]\n",
        "          for n in range (len(params['learning_rate'])):\n",
        "            learning_rate=params['learning_rate'][k]\n",
        "            train(embedding_size, num_filters, kernel_sizes, regularizer, unit, learning_rate)  "
      ],
      "execution_count": null,
      "outputs": [
        {
          "output_type": "stream",
          "text": [
            "/usr/local/lib/python3.6/dist-packages/ipykernel_launcher.py:3: UserWarning: The `dropout` argument is no longer support in `Embedding`. You can apply a `keras.layers.SpatialDropout1D` layer right after the `Embedding` layer to get the same behavior.\n",
            "  This is separate from the ipykernel package so we can avoid doing imports until\n"
          ],
          "name": "stderr"
        },
        {
          "output_type": "stream",
          "text": [
            "Model: \"sequential_16\"\n",
            "_________________________________________________________________\n",
            "Layer (type)                 Output Shape              Param #   \n",
            "=================================================================\n",
            "embedding_15 (Embedding)     (None, 12, 64)            1246656   \n",
            "_________________________________________________________________\n",
            "conv1d_12 (Conv1D)           (None, 12, 200)           38600     \n",
            "_________________________________________________________________\n",
            "max_pooling1d_12 (MaxPooling (None, 6, 200)            0         \n",
            "_________________________________________________________________\n",
            "bidirectional_11 (Bidirectio (None, 200)               240800    \n",
            "_________________________________________________________________\n",
            "dense_10 (Dense)             (None, 5)                 1005      \n",
            "=================================================================\n",
            "Total params: 1,527,061\n",
            "Trainable params: 1,527,061\n",
            "Non-trainable params: 0\n",
            "_________________________________________________________________\n",
            "None\n",
            "Train on 124720 samples, validate on 31181 samples\n",
            "Epoch 1/10\n",
            "124720/124720 [==============================] - 136s 1ms/step - loss: 1.0941 - accuracy: 0.5575 - val_loss: 1.1731 - val_accuracy: 0.5205\n",
            "Epoch 2/10\n",
            "   160/124720 [..............................] - ETA: 2:07 - loss: 1.0457 - accuracy: 0.6313"
          ],
          "name": "stdout"
        },
        {
          "output_type": "stream",
          "text": [
            "/usr/local/lib/python3.6/dist-packages/keras/engine/saving.py:165: UserWarning: TensorFlow optimizers do not make it possible to access optimizer attributes or optimizer state after instantiation. As a result, we cannot save the optimizer as part of the model save file.You will have to compile your model again after loading it. Prefer using a Keras optimizer instead (see keras.io/optimizers).\n",
            "  'TensorFlow optimizers do not '\n"
          ],
          "name": "stderr"
        },
        {
          "output_type": "stream",
          "text": [
            "124720/124720 [==============================] - 136s 1ms/step - loss: 1.0739 - accuracy: 0.5658 - val_loss: 1.1586 - val_accuracy: 0.5259\n",
            "Epoch 3/10\n",
            "124720/124720 [==============================] - 135s 1ms/step - loss: 1.0898 - accuracy: 0.5607 - val_loss: 1.2269 - val_accuracy: 0.5017\n",
            "Epoch 4/10\n",
            "124720/124720 [==============================] - 134s 1ms/step - loss: 1.1196 - accuracy: 0.5527 - val_loss: 1.1889 - val_accuracy: 0.5135\n",
            "Epoch 5/10\n",
            "124720/124720 [==============================] - 134s 1ms/step - loss: 1.0979 - accuracy: 0.5554 - val_loss: 1.1907 - val_accuracy: 0.5071\n",
            "Epoch 6/10\n",
            "124720/124720 [==============================] - 138s 1ms/step - loss: 1.0898 - accuracy: 0.5545 - val_loss: 1.1826 - val_accuracy: 0.5261\n",
            "Epoch 7/10\n",
            "124720/124720 [==============================] - 136s 1ms/step - loss: 1.0979 - accuracy: 0.5644 - val_loss: 1.1814 - val_accuracy: 0.5276\n",
            "Epoch 8/10\n",
            "124720/124720 [==============================] - 134s 1ms/step - loss: 1.1010 - accuracy: 0.5655 - val_loss: 1.2018 - val_accuracy: 0.5160\n",
            "Epoch 9/10\n",
            "124720/124720 [==============================] - 131s 1ms/step - loss: 1.1976 - accuracy: 0.5293 - val_loss: 1.2594 - val_accuracy: 0.4976\n",
            "Epoch 10/10\n",
            "124720/124720 [==============================] - 129s 1ms/step - loss: 1.1971 - accuracy: 0.5291 - val_loss: 1.2502 - val_accuracy: 0.5005\n",
            "Model: \"sequential_17\"\n",
            "_________________________________________________________________\n",
            "Layer (type)                 Output Shape              Param #   \n",
            "=================================================================\n",
            "embedding_16 (Embedding)     (None, 12, 64)            1246656   \n",
            "_________________________________________________________________\n",
            "conv1d_13 (Conv1D)           (None, 12, 200)           38600     \n",
            "_________________________________________________________________\n",
            "max_pooling1d_13 (MaxPooling (None, 6, 200)            0         \n",
            "_________________________________________________________________\n",
            "bidirectional_12 (Bidirectio (None, 200)               240800    \n",
            "_________________________________________________________________\n",
            "dense_11 (Dense)             (None, 5)                 1005      \n",
            "=================================================================\n",
            "Total params: 1,527,061\n",
            "Trainable params: 1,527,061\n",
            "Non-trainable params: 0\n",
            "_________________________________________________________________\n",
            "None\n",
            "Train on 124720 samples, validate on 31181 samples\n",
            "Epoch 1/10\n",
            "124720/124720 [==============================] - 128s 1ms/step - loss: 1.1168 - accuracy: 0.5527 - val_loss: 1.2152 - val_accuracy: 0.5164\n",
            "Epoch 2/10\n",
            "124720/124720 [==============================] - 126s 1ms/step - loss: 1.1449 - accuracy: 0.5478 - val_loss: 1.2056 - val_accuracy: 0.5163\n",
            "Epoch 3/10\n",
            "124720/124720 [==============================] - 126s 1ms/step - loss: 1.1461 - accuracy: 0.5466 - val_loss: 1.2039 - val_accuracy: 0.5156\n",
            "Epoch 4/10\n",
            "124720/124720 [==============================] - 125s 999us/step - loss: 1.1403 - accuracy: 0.5442 - val_loss: 1.2649 - val_accuracy: 0.4943\n",
            "Epoch 5/10\n",
            "124720/124720 [==============================] - 126s 1ms/step - loss: 1.2026 - accuracy: 0.5255 - val_loss: 1.2610 - val_accuracy: 0.4950\n",
            "Epoch 6/10\n",
            "124720/124720 [==============================] - 127s 1ms/step - loss: 1.1195 - accuracy: 0.5517 - val_loss: 1.1930 - val_accuracy: 0.5219\n",
            "Epoch 7/10\n",
            "124720/124720 [==============================] - 126s 1ms/step - loss: 1.1050 - accuracy: 0.5582 - val_loss: 1.1916 - val_accuracy: 0.5215\n",
            "Epoch 8/10\n",
            "124720/124720 [==============================] - 126s 1ms/step - loss: 1.1004 - accuracy: 0.5609 - val_loss: 1.1913 - val_accuracy: 0.5221\n",
            "Epoch 9/10\n",
            "124720/124720 [==============================] - 125s 1ms/step - loss: 1.1051 - accuracy: 0.5645 - val_loss: 1.1839 - val_accuracy: 0.5250\n",
            "Epoch 10/10\n",
            "124720/124720 [==============================] - 126s 1ms/step - loss: 1.0988 - accuracy: 0.5672 - val_loss: 1.1823 - val_accuracy: 0.5259\n",
            "Model: \"sequential_18\"\n",
            "_________________________________________________________________\n",
            "Layer (type)                 Output Shape              Param #   \n",
            "=================================================================\n",
            "embedding_17 (Embedding)     (None, 12, 64)            1246656   \n",
            "_________________________________________________________________\n",
            "conv1d_14 (Conv1D)           (None, 12, 200)           38600     \n",
            "_________________________________________________________________\n",
            "max_pooling1d_14 (MaxPooling (None, 6, 200)            0         \n",
            "_________________________________________________________________\n",
            "bidirectional_13 (Bidirectio (None, 200)               240800    \n",
            "_________________________________________________________________\n",
            "dense_12 (Dense)             (None, 5)                 1005      \n",
            "=================================================================\n",
            "Total params: 1,527,061\n",
            "Trainable params: 1,527,061\n",
            "Non-trainable params: 0\n",
            "_________________________________________________________________\n",
            "None\n",
            "Train on 124720 samples, validate on 31181 samples\n",
            "Epoch 1/10\n",
            "124720/124720 [==============================] - 127s 1ms/step - loss: 1.1030 - accuracy: 0.5544 - val_loss: 1.1758 - val_accuracy: 0.5234\n",
            "Epoch 2/10\n",
            "124720/124720 [==============================] - 126s 1ms/step - loss: 1.1352 - accuracy: 0.5500 - val_loss: 1.2399 - val_accuracy: 0.5163\n",
            "Epoch 3/10\n",
            "124720/124720 [==============================] - 127s 1ms/step - loss: 1.1249 - accuracy: 0.5507 - val_loss: 1.2104 - val_accuracy: 0.5094\n",
            "Epoch 4/10\n",
            "124720/124720 [==============================] - 127s 1ms/step - loss: 1.1177 - accuracy: 0.5523 - val_loss: 1.2123 - val_accuracy: 0.5145\n",
            "Epoch 5/10\n",
            "124720/124720 [==============================] - 128s 1ms/step - loss: 1.1036 - accuracy: 0.5550 - val_loss: 1.1954 - val_accuracy: 0.5137\n",
            "Epoch 6/10\n",
            "124720/124720 [==============================] - 129s 1ms/step - loss: 1.1360 - accuracy: 0.5431 - val_loss: 1.2091 - val_accuracy: 0.5080\n",
            "Epoch 7/10\n",
            "124720/124720 [==============================] - 131s 1ms/step - loss: 1.1368 - accuracy: 0.5489 - val_loss: 1.2389 - val_accuracy: 0.5097\n",
            "Epoch 8/10\n",
            "124720/124720 [==============================] - 128s 1ms/step - loss: 1.1847 - accuracy: 0.5469 - val_loss: 1.2715 - val_accuracy: 0.5035\n",
            "Epoch 9/10\n",
            "124720/124720 [==============================] - 127s 1ms/step - loss: 1.1690 - accuracy: 0.5517 - val_loss: 1.2175 - val_accuracy: 0.5160\n",
            "Epoch 10/10\n",
            "124720/124720 [==============================] - 128s 1ms/step - loss: 1.1539 - accuracy: 0.5530 - val_loss: 1.2430 - val_accuracy: 0.5040\n",
            "Model: \"sequential_19\"\n",
            "_________________________________________________________________\n",
            "Layer (type)                 Output Shape              Param #   \n",
            "=================================================================\n",
            "embedding_18 (Embedding)     (None, 12, 64)            1246656   \n",
            "_________________________________________________________________\n",
            "conv1d_15 (Conv1D)           (None, 12, 200)           38600     \n",
            "_________________________________________________________________\n",
            "max_pooling1d_15 (MaxPooling (None, 6, 200)            0         \n",
            "_________________________________________________________________\n",
            "bidirectional_14 (Bidirectio (None, 300)               421200    \n",
            "_________________________________________________________________\n",
            "dense_13 (Dense)             (None, 5)                 1505      \n",
            "=================================================================\n",
            "Total params: 1,707,961\n",
            "Trainable params: 1,707,961\n",
            "Non-trainable params: 0\n",
            "_________________________________________________________________\n",
            "None\n",
            "Train on 124720 samples, validate on 31181 samples\n",
            "Epoch 1/10\n",
            "124720/124720 [==============================] - 125s 1ms/step - loss: 1.1045 - accuracy: 0.5560 - val_loss: 1.1765 - val_accuracy: 0.5281\n",
            "Epoch 2/10\n",
            "124720/124720 [==============================] - 125s 1ms/step - loss: 1.0903 - accuracy: 0.5584 - val_loss: 1.2160 - val_accuracy: 0.4994\n",
            "Epoch 3/10\n",
            "124720/124720 [==============================] - 125s 1ms/step - loss: 1.1036 - accuracy: 0.5573 - val_loss: 1.1936 - val_accuracy: 0.5198\n",
            "Epoch 4/10\n",
            "124720/124720 [==============================] - 125s 1ms/step - loss: 1.0750 - accuracy: 0.5657 - val_loss: 1.1754 - val_accuracy: 0.5239\n",
            "Epoch 5/10\n",
            "124720/124720 [==============================] - 125s 998us/step - loss: 1.0771 - accuracy: 0.5645 - val_loss: 1.1713 - val_accuracy: 0.5188\n",
            "Epoch 6/10\n",
            "124720/124720 [==============================] - 125s 1ms/step - loss: 1.0869 - accuracy: 0.5638 - val_loss: 1.2009 - val_accuracy: 0.5247\n",
            "Epoch 7/10\n",
            "124720/124720 [==============================] - 125s 1ms/step - loss: 1.0919 - accuracy: 0.5696 - val_loss: 1.2033 - val_accuracy: 0.5170\n",
            "Epoch 8/10\n",
            " 84352/124720 [===================>..........] - ETA: 39s - loss: 1.1563 - accuracy: 0.5498"
          ],
          "name": "stdout"
        }
      ]
    },
    {
      "cell_type": "code",
      "metadata": {
        "id": "tAE5o-bb_iCe",
        "colab": {
          "base_uri": "https://localhost:8080/",
          "height": 609
        },
        "outputId": "b83265fc-a317-47f9-a191-b29f7aa3033a"
      },
      "source": [
        "# editted\n",
        "# embedding layer size\n",
        "# embedding_vecor_length = 32\n",
        "\n",
        "model = Sequential()\n",
        "model.add(Embedding(19479, params['embedding_size'][0], input_length=max_review_length, dropout=0.2))\n",
        "model.add(Conv1D(filters=params['num_filters'][0], kernel_size=params['kernel_size'][0], padding='same',\n",
        "                 activation='relu', kernel_regularizer=keras.regularizers.l2(params['l2_cnn'][0])))\n",
        "model.add(MaxPooling1D(pool_size=2))\n",
        "# 1 layer of 100 units in the hidden layers of the LSTM cells\n",
        "model.add(Bidirectional(LSTM(params['units'][0],kernel_regularizer=keras.regularizers.l2(params['l2_cnn'][0]))))\n",
        "model.add(Dense(5, activation='softmax'))\n",
        "model.compile(loss='categorical_crossentropy', optimizer=tf.keras.optimizers.Adam(lr=params['learning_rate'][0]), \n",
        "              metrics=['accuracy'])\n",
        "print(model.summary())\n",
        "model.fit(X_train, y_train,validation_split=0.20, epochs=5,verbose=1, batch_size=32)"
      ],
      "execution_count": null,
      "outputs": [
        {
          "output_type": "stream",
          "text": [
            "/usr/local/lib/python3.6/dist-packages/ipykernel_launcher.py:3: UserWarning: The `dropout` argument is no longer support in `Embedding`. You can apply a `keras.layers.SpatialDropout1D` layer right after the `Embedding` layer to get the same behavior.\n",
            "  This is separate from the ipykernel package so we can avoid doing imports until\n"
          ],
          "name": "stderr"
        },
        {
          "output_type": "stream",
          "text": [
            "Model: \"sequential_12\"\n",
            "_________________________________________________________________\n",
            "Layer (type)                 Output Shape              Param #   \n",
            "=================================================================\n",
            "embedding_11 (Embedding)     (None, 12, 64)            1246656   \n",
            "_________________________________________________________________\n",
            "conv1d_8 (Conv1D)            (None, 12, 200)           38600     \n",
            "_________________________________________________________________\n",
            "max_pooling1d_8 (MaxPooling1 (None, 6, 200)            0         \n",
            "_________________________________________________________________\n",
            "bidirectional_7 (Bidirection (None, 200)               240800    \n",
            "_________________________________________________________________\n",
            "dense_6 (Dense)              (None, 5)                 1005      \n",
            "=================================================================\n",
            "Total params: 1,527,061\n",
            "Trainable params: 1,527,061\n",
            "Non-trainable params: 0\n",
            "_________________________________________________________________\n",
            "None\n",
            "Train on 124720 samples, validate on 31181 samples\n",
            "Epoch 1/5\n",
            "124720/124720 [==============================] - 141s 1ms/step - loss: 1.0947 - accuracy: 0.5594 - val_loss: 1.1641 - val_accuracy: 0.5386\n",
            "Epoch 2/5\n",
            "124720/124720 [==============================] - 140s 1ms/step - loss: 1.0791 - accuracy: 0.5667 - val_loss: 1.1594 - val_accuracy: 0.5347\n",
            "Epoch 3/5\n",
            "124720/124720 [==============================] - 138s 1ms/step - loss: 1.0764 - accuracy: 0.5744 - val_loss: 1.1542 - val_accuracy: 0.5283\n",
            "Epoch 4/5\n",
            "124720/124720 [==============================] - 138s 1ms/step - loss: 1.0954 - accuracy: 0.5666 - val_loss: 1.2735 - val_accuracy: 0.4983\n",
            "Epoch 5/5\n",
            "124720/124720 [==============================] - 137s 1ms/step - loss: 1.1731 - accuracy: 0.5341 - val_loss: 1.2358 - val_accuracy: 0.4984\n"
          ],
          "name": "stdout"
        },
        {
          "output_type": "execute_result",
          "data": {
            "text/plain": [
              "<keras.callbacks.callbacks.History at 0x7f6a97948a58>"
            ]
          },
          "metadata": {
            "tags": []
          },
          "execution_count": 63
        }
      ]
    },
    {
      "cell_type": "code",
      "metadata": {
        "id": "Do_CbC4U2V4U"
      },
      "source": [
        "#to visualize the training graphs\n",
        "#run \"tensorboard --logdir='./logs' \"  from the command terminal"
      ],
      "execution_count": null,
      "outputs": []
    },
    {
      "cell_type": "markdown",
      "metadata": {
        "id": "023Moe4h2V4a"
      },
      "source": [
        "## Testing"
      ]
    },
    {
      "cell_type": "code",
      "metadata": {
        "id": "FSpGdQ712V4b",
        "colab": {
          "base_uri": "https://localhost:8080/",
          "height": 70
        },
        "outputId": "64f79e35-3033-44ac-ac1e-abacaa314a76"
      },
      "source": [
        "# load the saved model\n",
        "# returns a compiled model\n",
        "model = load_model('checkpoint_model.h5')"
      ],
      "execution_count": null,
      "outputs": [
        {
          "output_type": "stream",
          "text": [
            "/usr/local/lib/python3.6/dist-packages/tensorflow/python/framework/indexed_slices.py:434: UserWarning: Converting sparse IndexedSlices to a dense Tensor of unknown shape. This may consume a large amount of memory.\n",
            "  \"Converting sparse IndexedSlices to a dense Tensor of unknown shape. \"\n"
          ],
          "name": "stderr"
        }
      ]
    },
    {
      "cell_type": "code",
      "metadata": {
        "id": "QOy7tCft2V4h",
        "colab": {
          "base_uri": "https://localhost:8080/",
          "height": 643
        },
        "outputId": "c6eb4f70-da85-4f20-a5a5-4b2c03b4969b"
      },
      "source": [
        "# visualize model architecture\n",
        "plot_model(model, to_file='model_plot.png', show_shapes=True, show_layer_names=True)"
      ],
      "execution_count": null,
      "outputs": [
        {
          "output_type": "execute_result",
          "data": {
            "image/png": "[encoded data removed]",
            "text/plain": [
              "<IPython.core.display.Image object>"
            ]
          },
          "metadata": {
            "tags": []
          },
          "execution_count": 73
        }
      ]
    },
    {
      "cell_type": "code",
      "metadata": {
        "id": "WR_S5AMO2V4s"
      },
      "source": [
        "# run prediction\n",
        "test_pred = model.predict_classes(x_test)"
      ],
      "execution_count": null,
      "outputs": []
    },
    {
      "cell_type": "code",
      "metadata": {
        "id": "llTX0W6Q2V41"
      },
      "source": [
        "# edits the test file to input the prediction labels\n",
        "test_df = pd.read_csv('/content/drive/My Drive/test.tsv', sep='\\t', header=0)"
      ],
      "execution_count": null,
      "outputs": []
    },
    {
      "cell_type": "code",
      "metadata": {
        "id": "doAwrI542V48"
      },
      "source": [
        "test_df['Sentiment'] = test_pred.reshape(-1,1) \n",
        "header = ['PhraseId', 'Sentiment']\n",
        "test_df.to_csv('./final_predicted_model.csv', columns=header, index=False, header=True)"
      ],
      "execution_count": null,
      "outputs": []
    }
  ]
}